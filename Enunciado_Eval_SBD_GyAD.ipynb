{
  "nbformat": 4,
  "nbformat_minor": 0,
  "metadata": {
    "colab": {
      "name": "Enunciado_Eval_SBD_GyAD",
      "provenance": [],
      "collapsed_sections": [],
      "include_colab_link": true
    },
    "kernelspec": {
      "name": "python3",
      "display_name": "Python 3"
    },
    "language_info": {
      "name": "python"
    }
  },
  "cells": [
    {
      "cell_type": "markdown",
      "metadata": {
        "id": "view-in-github",
        "colab_type": "text"
      },
      "source": [
        "<a href=\"https://colab.research.google.com/github/angelBosco/Equipos/blob/main/Enunciado_Eval_SBD_GyAD.ipynb\" target=\"_parent\"><img src=\"https://colab.research.google.com/assets/colab-badge.svg\" alt=\"Open In Colab\"/></a>"
      ]
    },
    {
      "cell_type": "markdown",
      "metadata": {
        "id": "iKrqKtWCd9im"
      },
      "source": [
        "# **Trabajo 2. Sistemas de Big Data**\n",
        "\n",
        "# Gestión y Almacenamiento de datos\n",
        "El objetivo de este trabajo es que los participantes hagan uso de algunas de las herramientas de ingesta de datos en sistemas de ficheros distribuidos vistas durante la formación. En concreto, esta tarea de evaluación plantea dos ejercicios prácticos de utilización de la herramienta Apache Flume. Para superar la evaluación, los participantes deben completar el código correspondiente en el cuaderno. La estructura de la tarea es la siguiente:\n",
        "\n",
        "Instalación de Hadoop\n",
        "\n",
        "Instalación de Apache Flume\n",
        "\n",
        "Ejercicio 1: Monitorización de archivos a través de Apache Flume\n",
        "\n",
        "Ejercicio 2: Monitorización de directorios e inyección en HDFS mediante Apache Flume\n"
      ]
    },
    {
      "cell_type": "markdown",
      "metadata": {
        "id": "AHjARS6Fe_cR"
      },
      "source": [
        "## Instalación"
      ]
    },
    {
      "cell_type": "markdown",
      "metadata": {
        "id": "vBbHs3DMyjIm"
      },
      "source": [
        "### 0. Instalación de Hadoop"
      ]
    },
    {
      "cell_type": "markdown",
      "metadata": {
        "id": "TT47p0BgeQII"
      },
      "source": [
        "0.1 Download Hadoop"
      ]
    },
    {
      "cell_type": "code",
      "metadata": {
        "id": "MmQb-EBbyS4o"
      },
      "source": [
        "%%bash\n",
        "wget https://downloads.apache.org/hadoop/common/hadoop-3.3.0/hadoop-3.3.0.tar.gz\n",
        "tar -xzf hadoop-3.3.0.tar.gz\n",
        "cp -r hadoop-3.3.0/ /usr/local/"
      ],
      "execution_count": null,
      "outputs": []
    },
    {
      "cell_type": "markdown",
      "metadata": {
        "id": "bQSHgHl-yg0o"
      },
      "source": [
        "0.2 Variables de entorno"
      ]
    },
    {
      "cell_type": "code",
      "metadata": {
        "id": "MzexlzsKyc4n"
      },
      "source": [
        "import os\n",
        "os.environ[\"JAVA_HOME\"] = \"/usr/lib/jvm/java-11-openjdk-amd64/\"\n",
        "os.environ[\"PATH\"] = os.environ[\"PATH\"] + \":\" + \"/usr/local/hadoop-3.3.0/bin\""
      ],
      "execution_count": null,
      "outputs": []
    },
    {
      "cell_type": "code",
      "metadata": {
        "id": "FvtDk4pGubjP"
      },
      "source": [
        "!hadoop version\n"
      ],
      "execution_count": null,
      "outputs": []
    },
    {
      "cell_type": "markdown",
      "metadata": {
        "id": "vpxu9EUneYES"
      },
      "source": [
        "### 1. Instalación de Flume"
      ]
    },
    {
      "cell_type": "markdown",
      "metadata": {
        "id": "LImQnBZK6N4x"
      },
      "source": [
        "1.1 Download Flume\n"
      ]
    },
    {
      "cell_type": "code",
      "metadata": {
        "id": "WAF8S7iyKF2r"
      },
      "source": [
        "!wget https://dlcdn.apache.org/flume/1.9.0/apache-flume-1.9.0-bin.tar.gz"
      ],
      "execution_count": null,
      "outputs": []
    },
    {
      "cell_type": "code",
      "metadata": {
        "id": "a1KAKc067V-g"
      },
      "source": [
        "!tar xzf apache-flume-1.9.0-bin.tar.gz"
      ],
      "execution_count": null,
      "outputs": []
    },
    {
      "cell_type": "code",
      "metadata": {
        "id": "cRO56gDlKjq8"
      },
      "source": [
        "!cp -r apache-flume-1.9.0-bin/ /usr/local/"
      ],
      "execution_count": null,
      "outputs": []
    },
    {
      "cell_type": "markdown",
      "metadata": {
        "id": "xJeqX4GR6P0I"
      },
      "source": [
        "1.2 Variables de Entorno"
      ]
    },
    {
      "cell_type": "code",
      "metadata": {
        "id": "ofaLnVMhKvM4"
      },
      "source": [
        "os.environ[\"FLUME_HOME\"] = \"/usr/local/apache-flume-1.9.0-bin\"\n",
        "os.environ[\"PATH\"] = os.environ[\"PATH\"] + \":\" + \"/usr/local/apache-flume-1.9.0-bin/bin\"\n",
        "os.environ[\"JAVA_OPTS\"]= \"-Xms400m -Xmx3000m -Dcom.sun.management.jmxremote\""
      ],
      "execution_count": null,
      "outputs": []
    },
    {
      "cell_type": "markdown",
      "metadata": {
        "id": "XBwJqt3y6Sme"
      },
      "source": [
        "1.3 Prueba. Ejecutar el comando flume necesario para visualizar la versión de la herramienta instalada"
      ]
    },
    {
      "cell_type": "code",
      "metadata": {
        "id": "kiENUy7tLD0r"
      },
      "source": [
        "!"
      ],
      "execution_count": null,
      "outputs": []
    },
    {
      "cell_type": "markdown",
      "metadata": {
        "id": "ZNgCUsah8pD9"
      },
      "source": [
        "Referencias:\n",
        "\n",
        "[Apache Flume 1.9.0 Download](https://www.apache.org/dyn/closer.lua/flume/1.9.0/apache-flume-1.9.0-bin.tar.gz)\n",
        "\n",
        "[Apache Flume Installation Tutorial](https://data-flair.training/blogs/apache-flume-installation-tutorial/)\n",
        "\n",
        "\n"
      ]
    },
    {
      "cell_type": "markdown",
      "metadata": {
        "id": "3buQkhi6e9o3"
      },
      "source": [
        "## Ejercicios"
      ]
    },
    {
      "cell_type": "markdown",
      "metadata": {
        "id": "u9p4H8ZMm9pS"
      },
      "source": [
        "# **Ejercicio 1.** Agente para la monitorización de archivos.\n",
        "\n",
        "Configurar un agente Flume llamado \"Monitor_File\" que, haciendo uso del comando tail, monitorice los cambios realizados en un fichero. Para ello, crear el archivo monitor.txt dentro de un directorio llamado Ejercicio2. Al ejecutar el agente, los cambios introducidos y guardados en el fichero se incorporarán a un evento flume que se registrará en una terminal"
      ]
    },
    {
      "cell_type": "markdown",
      "metadata": {
        "id": "EFshKe4SpgCk"
      },
      "source": [
        "Creación del directorio Ejercicio2 y creación, en su interior, del archivo monitor.txt"
      ]
    },
    {
      "cell_type": "code",
      "metadata": {
        "id": "wN_ua75tpe5y"
      },
      "source": [
        "!mkdir -p Ejercicio2\n",
        "!touch monitor.txt"
      ],
      "execution_count": null,
      "outputs": []
    },
    {
      "cell_type": "markdown",
      "metadata": {
        "id": "ZSpJxo3hcQse"
      },
      "source": [
        "Creación del archivo de configuración del agente"
      ]
    },
    {
      "cell_type": "code",
      "metadata": {
        "id": "c2mjOOW7pBop"
      },
      "source": [
        "%%writefile Monitor_File.conf\n",
        "# Configuración del Agente para monitorización de archivos\n",
        "\n",
        "#Definición del agente: nombre y componentes\n",
        " \n",
        "   \n",
        "#Definición de propiedades Source\n",
        "Monitor_File.sources.s1.type    = \n",
        "Monitor_File.sources.s1.command = \n",
        "Monitor_File.sources.s1.shell   = /bin/bash -c\n",
        "\n",
        "# Configuración de propiedades del canal\n",
        "Monitor_File.channels.c1.type = \n",
        "\n",
        "# Configuración de propiedades del sink\n",
        "Monitor_File.sinks.k1.type = \n",
        "\n",
        "# Vinculación de source y sink al canal creado\n",
        "Monitor_File.sources.s1.channels = c1\n",
        "Monitor_File.sinks.k1.channel    = c1  "
      ],
      "execution_count": null,
      "outputs": []
    },
    {
      "cell_type": "markdown",
      "metadata": {
        "id": "pxUk4V7IqExw"
      },
      "source": [
        "Ejecución del agente Monitor_File"
      ]
    },
    {
      "cell_type": "code",
      "metadata": {
        "id": "6ZnlZh0ZqHq6"
      },
      "source": [
        "!"
      ],
      "execution_count": null,
      "outputs": []
    },
    {
      "cell_type": "markdown",
      "metadata": {
        "id": "ClMS4lfgfmeq"
      },
      "source": [
        "# **Ejercicio 2.** Monitorización de un directorio (Spooling Dir)\n",
        "\n",
        "Configurar un agente Flume llamado \"Monitor_Dir\" que monitorice los cambios realizados dentro de un directorio llamado \"logs\". Los cambios producidos en el directorio se registrarán en eventos flume que se almacenarán, a su vez, en un directorio llamado \"copy-logs\""
      ]
    },
    {
      "cell_type": "markdown",
      "metadata": {
        "id": "8EuTteEWfqdy"
      },
      "source": [
        "1. Crear los directorios a investigar (logs) y donde se van a copiar (copy-logs)\n",
        "\n"
      ]
    },
    {
      "cell_type": "code",
      "metadata": {
        "id": "8Ynzv-nPQO7A"
      },
      "source": [
        "!mkdir -p logs\n",
        "!mkdir -p copy-logs\n"
      ],
      "execution_count": null,
      "outputs": []
    },
    {
      "cell_type": "markdown",
      "metadata": {
        "id": "tHECp_Ulfmbo"
      },
      "source": [
        "2. Creación del fichero de configuración del agente"
      ]
    },
    {
      "cell_type": "code",
      "metadata": {
        "id": "eT__C334QElx"
      },
      "source": [
        "%%writefile Monitor_Dir.conf\n",
        "# Configuración del Agente para monitorización de un directorio\n",
        "\n",
        "#Definición del agente: nombre y componentes\n",
        "agente.sources  = s1  \n",
        "agente.sinks    = k1  \n",
        "agente.channels = c1  \n",
        "   \n",
        "#Configuración de propiedades Source\n",
        "agente.sources.s1.type              = \n",
        "agente.sources.s1.spoolDir          = \n",
        "agente.sources.s1.basenameHeader    = \n",
        "agente.sources.s1.basenameHeaderKey = \n",
        "\n",
        "# Configuración de propiedades del canal\n",
        "agente.channels.c1.type    = \n",
        "\n",
        "# Configuración de propiedades del sink\n",
        "agente.sinks.k1.type = file_roll\n",
        "agente.sinks.k1.sink.directory = /content/copy-logs\n",
        "\n",
        "#Vinculación de source y sink al canal creado\n",
        "agente.sources.s1.channels = c1\n",
        "agente.sinks.k1.channel    = c1"
      ],
      "execution_count": null,
      "outputs": []
    },
    {
      "cell_type": "markdown",
      "metadata": {
        "id": "WV2wZelEgNDK"
      },
      "source": [
        "3. Ejecución del Agente Flume"
      ]
    },
    {
      "cell_type": "code",
      "metadata": {
        "id": "3Zl23Ep9Qsn3"
      },
      "source": [
        "!"
      ],
      "execution_count": null,
      "outputs": []
    },
    {
      "cell_type": "markdown",
      "metadata": {
        "id": "uU47WtxyVjjF"
      },
      "source": [
        "4. Finalización \n",
        "- Copiar utilizando el manejador de archivos de la izquierda un fichero a logs. \n",
        "- Comprobar el log de flume\n",
        "- Comprobar el directorio copy-logs.\n",
        "- Flume se queda ejecutando \"ad eternum\" no permitiendo ejecutar más cosas por lo tanto Entorno de Ejecución -> Interrumpir Ejecución"
      ]
    }
  ]
}